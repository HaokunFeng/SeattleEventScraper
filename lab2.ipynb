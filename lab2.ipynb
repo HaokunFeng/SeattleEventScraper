{
 "cells": [
  {
   "cell_type": "markdown",
   "metadata": {},
   "source": [
    "# Lab2: Accessing Web Resources with Python\n",
    "\n",
    "- Scrape https://visitseattle.org for events happening in Seattle\n",
    "    - Scraping the list page\n",
    "        -  extract the url in `href` of a tags to the event detail page (e.g. https://visitseattle.org/events/glen-teriyaki/)\n",
    "        - paginate the website and scape all events from the list page (https://visitseattle.org/events/page/1)\n",
    "        - store in a listprint urls\n",
    "- Look up the location\n",
    "- Look up the weather for the location\n",
    "- Store the data as CSV\n",
    "- (bonus) [Store the data in Azure Blob storage](https://learn.microsoft.com/en-us/azure/storage/blobs/storage-quickstart-blobs-python?tabs=managed-identity%2Croles-azure-portal%2Csign-in-azure-cli) as csv\n",
    "- (bonus) [Deploy the scraper on GitHub Actions](https://www.python-engineer.com/posts/run-python-github-actions/)"
   ]
  },
  {
   "cell_type": "code",
   "execution_count": 2,
   "metadata": {},
   "outputs": [],
   "source": [
    "\n",
    "import requests\n",
    "from bs4 import  BeautifulSoup"
   ]
  },
  {
   "cell_type": "markdown",
   "metadata": {},
   "source": [
    "### 1. Scrape https://visitseattle.org for events happening in Seattle"
   ]
  },
  {
   "cell_type": "code",
   "execution_count": 4,
   "metadata": {},
   "outputs": [],
   "source": [
    "url = 'https://visitseattle.org/events/page/1'\n",
    "res = requests.get(url)\n",
    "\n",
    "if res.status_code == 200:\n",
    "    soup = BeautifulSoup(res.text, 'html.parser')\n",
    "\n",
    "    selector = \"div.search-result-preview > div > h3 > a\"\n",
    "    a_eles = soup.select(selector)\n",
    "\n",
    "    event_urls = [x['href'] for x in a_eles]\n",
    "\n",
    "    for event_url in event_urls:\n",
    "        print(event_url)\n",
    "    \n",
    "else:\n",
    "    print(f\"Failed to retrieve the page. Status code: {response.status_code}\")"
   ]
  },
  {
   "cell_type": "markdown",
   "metadata": {},
   "source": [
    "### 2. "
   ]
  },
  {
   "cell_type": "code",
   "execution_count": null,
   "metadata": {},
   "outputs": [],
   "source": [
    "\n",
    "def extract_event_urls(url):\n",
    "    response = requests.get(url)\n",
    "    \n",
    "    if response.status_code == 200:\n",
    "        soup = BeautifulSoup(response.text, 'html.parser')\n",
    "        event_urls = [a['href'] for a in soup.select('a.event-item-title')]\n",
    "        return event_urls\n",
    "    else:\n",
    "        print(f\"Failed to retrieve the page. Status code: {response.status_code}\")\n",
    "        return []\n",
    "\n",
    "def scrape_event_urls(base_url, num_pages):\n",
    "    all_event_urls = []\n",
    "    \n",
    "    for page_num in range(1, num_pages + 1):\n",
    "        page_url = f\"{base_url}/page/{page_num}\"\n",
    "        event_urls = extract_event_urls(page_url)\n",
    "        all_event_urls.extend(event_urls)\n",
    "\n",
    "    return all_event_urls\n",
    "\n",
    "# Base URL of the list page\n",
    "base_url = 'https://visitseattle.org/events'\n",
    "\n",
    "# Number of pages to scrape\n",
    "num_pages = 41\n",
    "\n",
    "# Scrape event URLs\n",
    "event_urls = scrape_event_urls(base_url, num_pages)\n",
    "\n",
    "# Print the list of event URLs\n",
    "for i, event_url in enumerate(event_urls, start=1):\n",
    "    print(f\"{i}. {event_url}\")\n"
   ]
  }
 ],
 "metadata": {
  "kernelspec": {
   "display_name": "base",
   "language": "python",
   "name": "python3"
  },
  "language_info": {
   "codemirror_mode": {
    "name": "ipython",
    "version": 3
   },
   "file_extension": ".py",
   "mimetype": "text/x-python",
   "name": "python",
   "nbconvert_exporter": "python",
   "pygments_lexer": "ipython3",
   "version": "3.11.5"
  }
 },
 "nbformat": 4,
 "nbformat_minor": 2
}
